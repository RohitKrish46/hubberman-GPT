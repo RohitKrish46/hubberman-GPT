{
 "cells": [
  {
   "cell_type": "code",
   "execution_count": 20,
   "id": "803144ff-6dac-47c3-9442-3d0bed673795",
   "metadata": {},
   "outputs": [],
   "source": [
    "from docx import Document\n",
    "import os"
   ]
  },
  {
   "cell_type": "code",
   "execution_count": 2,
   "id": "d95ec5e8-e12c-4085-aef2-90eeb26ed79b",
   "metadata": {},
   "outputs": [],
   "source": [
    "# def remove_speakers_and_timestamps(text):\n",
    "#     # Remove speakers and timestamps using regular expression\n",
    "#     text_cleaned = re.sub(r'\\bSpeaker \\d+:\\s*\\d{2}:\\d{2}:\\d{2}\\b\\s*', '', text)\n",
    "#     return text_cleaned"
   ]
  },
  {
   "cell_type": "code",
   "execution_count": 3,
   "id": "4c68029b-ffe4-4015-8710-81dcac75b740",
   "metadata": {},
   "outputs": [],
   "source": [
    "# def clean_directory(input_directory, output_file):\n",
    "#     combined_text = []\n",
    "\n",
    "#     # Iterate over all files in the input directory\n",
    "#     for filename in os.listdir(input_directory):\n",
    "#         if filename.endswith('.txt'):\n",
    "#             input_file_path = os.path.join(input_directory, filename)\n",
    "#             with open(input_file_path, 'r') as file:\n",
    "#                 text = file.read()\n",
    "#                 cleaned_text = remove_speakers_and_timestamps(text)\n",
    "#                 combined_text.append(cleaned_text)\n",
    "\n",
    "#     # Write combined text to the output file\n",
    "#     with open(output_file, 'w') as file:\n",
    "#         file.write('\\n'.join(combined_text))"
   ]
  },
  {
   "cell_type": "code",
   "execution_count": 23,
   "id": "1d97035d-50de-4723-ad1e-849b8c10eabb",
   "metadata": {},
   "outputs": [],
   "source": [
    "def combine_word_files(input_folder, output_file):\n",
    "    # Initialize an empty list to store the text content of each file\n",
    "    combined_text = []\n",
    "\n",
    "    # Iterate over all files in the input folder\n",
    "    for filename in os.listdir(input_folder):\n",
    "        if filename.endswith('.docx'):\n",
    "            file_path = os.path.join(input_folder, filename)\n",
    "            # Read the content of the Word document and append it to the combined_text list\n",
    "            doc = Document(file_path)\n",
    "            text = '\\n'.join([paragraph.text for paragraph in doc.paragraphs])\n",
    "            combined_text.append(text)\n",
    "\n",
    "    # Write the combined text to the output file\n",
    "    with open(output_file, 'w', encoding=\"utf-8\") as file:\n",
    "        file.write('\\n'.join(combined_text))"
   ]
  },
  {
   "cell_type": "code",
   "execution_count": 24,
   "id": "f2f268c3-90cc-4d6c-b2c4-72ff30e5b0d3",
   "metadata": {},
   "outputs": [],
   "source": [
    "# Provide the paths to your input directory and output file\n",
    "input_directory_path = '../huberman_txt'\n",
    "output_file_path = 'huberman_input.txt'\n",
    "\n",
    "combine_word_files(input_directory_path, output_file_path)"
   ]
  },
  {
   "cell_type": "code",
   "execution_count": 27,
   "id": "51dbeddc-b396-4e61-a98e-dbb79d8273fa",
   "metadata": {},
   "outputs": [],
   "source": [
    "def add_newline_after_full_stop(input_file, output_file):\n",
    "    # Read the content of the combined text file\n",
    "    with open(input_file, 'r', encoding=\"utf-8\") as file:\n",
    "        text = file.read()\n",
    "\n",
    "    # Insert a new line after every full stop (period)\n",
    "    text_with_newlines = text.replace('.', '.\\n')\n",
    "\n",
    "    # Write the modified text back to the output file\n",
    "    with open(output_file, 'w', encoding=\"utf-8\") as file:\n",
    "        file.write(text_with_newlines)\n",
    "\n",
    "# Provide the path to the combined text file\n",
    "combined_text_file_path = 'huberman_input.txt'\n",
    "\n",
    "# Provide the path to the output file where the modified text will be saved\n",
    "output_file_path = 'modified_input.txt'\n",
    "\n",
    "add_newline_after_full_stop(combined_text_file_path, output_file_path)"
   ]
  },
  {
   "cell_type": "code",
   "execution_count": null,
   "id": "4d168a9b-0bd5-4839-803a-91a0ea6e474c",
   "metadata": {},
   "outputs": [],
   "source": []
  }
 ],
 "metadata": {
  "kernelspec": {
   "display_name": "Python 3 (ipykernel)",
   "language": "python",
   "name": "python3"
  },
  "language_info": {
   "codemirror_mode": {
    "name": "ipython",
    "version": 3
   },
   "file_extension": ".py",
   "mimetype": "text/x-python",
   "name": "python",
   "nbconvert_exporter": "python",
   "pygments_lexer": "ipython3",
   "version": "3.11.5"
  }
 },
 "nbformat": 4,
 "nbformat_minor": 5
}
